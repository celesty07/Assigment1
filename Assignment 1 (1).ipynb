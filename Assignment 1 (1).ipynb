{
 "cells": [
  {
   "cell_type": "code",
   "execution_count": 1,
   "id": "832d43be-1dae-4b7d-aeea-c9af5790212d",
   "metadata": {},
   "outputs": [],
   "source": [
    "# Q1 To declare two inter and swap the values without temporary variable"
   ]
  },
  {
   "cell_type": "code",
   "execution_count": 37,
   "id": "28e89b8e-a26e-464c-9f38-eed42fcde4be",
   "metadata": {},
   "outputs": [
    {
     "name": "stdout",
     "output_type": "stream",
     "text": [
      "Before swaping A is 10 B is 50\n"
     ]
    }
   ],
   "source": [
    "a = 10\n",
    "b = 50\n",
    "print('Before swaping A is', a, 'B is', b)"
   ]
  },
  {
   "cell_type": "code",
   "execution_count": 38,
   "id": "1dd3953b-840d-4921-ad25-84d0af3d29ca",
   "metadata": {},
   "outputs": [
    {
     "name": "stdout",
     "output_type": "stream",
     "text": [
      "After swaping A is 50 B is 10\n"
     ]
    }
   ],
   "source": [
    "a,b =b,a\n",
    "print('After swaping A is', a, 'B is', b)"
   ]
  },
  {
   "cell_type": "code",
   "execution_count": 36,
   "id": "07e89260-ca94-4b20-90a9-c9563193f670",
   "metadata": {},
   "outputs": [
    {
     "name": "stdout",
     "output_type": "stream",
     "text": [
      "30 20\n"
     ]
    }
   ],
   "source": [
    "#Declaring Two variables x,y and assign integer values to it\n",
    "x=20\n",
    "y=30\n",
    "#Swapping it with out third Variable\n",
    "x=x+y\n",
    "y=x-y\n",
    "x=x-y\n",
    "#printing the output \n",
    "print(x,y)"
   ]
  },
  {
   "cell_type": "code",
   "execution_count": 6,
   "id": "0ac40bc9-5eeb-41ef-b406-acb953017b2b",
   "metadata": {},
   "outputs": [],
   "source": [
    "# Q2 Area of rectangle "
   ]
  },
  {
   "cell_type": "code",
   "execution_count": 42,
   "id": "b249c5f4-e485-40d9-866f-c3d994b6decf",
   "metadata": {},
   "outputs": [
    {
     "name": "stdin",
     "output_type": "stream",
     "text": [
      "Enter the length of the Rectangle 15\n",
      "Enter the breath of the Rectangle 25\n"
     ]
    },
    {
     "name": "stdout",
     "output_type": "stream",
     "text": [
      "The area of Rectangle is: 375\n",
      "\n"
     ]
    }
   ],
   "source": [
    "Length = int(input('Enter the length of the Rectangle'))\n",
    "Breadth = int(input('Enter the breath of the Rectangle'))\n",
    "Area = Length * Breadth\n",
    "print('The area of Rectangle is: %d\\n'%Area)"
   ]
  },
  {
   "cell_type": "code",
   "execution_count": 24,
   "id": "4356ec8c-b351-457f-9c46-3ed39327eba1",
   "metadata": {},
   "outputs": [],
   "source": [
    "#Q3 Convert Celsius to fahrenheit"
   ]
  },
  {
   "cell_type": "code",
   "execution_count": 48,
   "id": "f943e64a-92c0-4c41-9a95-b02600d9069e",
   "metadata": {},
   "outputs": [
    {
     "name": "stdin",
     "output_type": "stream",
     "text": [
      "Enter the Temperature in celsius 51\n"
     ]
    },
    {
     "name": "stdout",
     "output_type": "stream",
     "text": [
      "Temperature in Fahrenheit is :91.800000\n",
      "\n"
     ]
    }
   ],
   "source": [
    "Celsius = float(input('Enter the Temperature in celsius'))\n",
    "Fahrenheit = (Celsius * 9/5) \n",
    "print('Temperature in Fahrenheit is :%f\\n'%Fahrenheit)"
   ]
  },
  {
   "cell_type": "code",
   "execution_count": 49,
   "id": "11ff7905-a0ea-43d6-9f85-3880bf4224f5",
   "metadata": {},
   "outputs": [],
   "source": [
    "#Q1 length of string"
   ]
  },
  {
   "cell_type": "code",
   "execution_count": 52,
   "id": "37916a2c-3502-46f4-b865-c71a26fcb34c",
   "metadata": {},
   "outputs": [
    {
     "name": "stdin",
     "output_type": "stream",
     "text": [
      "Enter the string Celesty\n"
     ]
    },
    {
     "name": "stdout",
     "output_type": "stream",
     "text": [
      "The length of given string is 7\n"
     ]
    }
   ],
   "source": [
    "A = str(input('Enter the string'))\n",
    "len(A)\n",
    "print('The length of given string is',len(A))"
   ]
  },
  {
   "cell_type": "code",
   "execution_count": 53,
   "id": "7e0ad4d0-e1d9-4ead-bd4e-e1a5c316020e",
   "metadata": {},
   "outputs": [],
   "source": [
    "#Q2 number of vowels present in given string"
   ]
  },
  {
   "cell_type": "code",
   "execution_count": 11,
   "id": "eaefa6d2-2aa7-4959-a8cf-5d086a6e32f7",
   "metadata": {},
   "outputs": [
    {
     "name": "stdin",
     "output_type": "stream",
     "text": [
      "Enter the string celesty\n"
     ]
    },
    {
     "name": "stdout",
     "output_type": "stream",
     "text": [
      "The length of the vowels in given string is 2\n"
     ]
    }
   ],
   "source": [
    "C =str(input('Enter the string'))\n",
    "vowels = 0\n",
    "for i in C:\n",
    "    if(i=='a' or i=='e' or i=='i' or i=='o' or i=='u' or i=='A' or i=='E' or i=='I' or i=='O' or i=='U'):\n",
    "        vowels+=1\n",
    "print(\"The length of the vowels in given string is\",vowels)\n",
    "    "
   ]
  },
  {
   "cell_type": "code",
   "execution_count": 49,
   "id": "c17ee235-38fa-42a0-832e-46b8c7ca2f8e",
   "metadata": {},
   "outputs": [],
   "source": [
    "#Q3 Reverse the order of string"
   ]
  },
  {
   "cell_type": "code",
   "execution_count": 24,
   "id": "0b082945-e298-490a-91b4-e29a363a04bd",
   "metadata": {},
   "outputs": [
    {
     "name": "stdout",
     "output_type": "stream",
     "text": [
      "The reverse order of given string is:\n",
      " ytseleC\n"
     ]
    }
   ],
   "source": [
    "A = \"Celesty\"\n",
    "print(\"The reverse order of given string is:\\n\",(A[::-1]))"
   ]
  },
  {
   "cell_type": "code",
   "execution_count": 50,
   "id": "7643b7b8-8773-4d89-81f6-edee4a5e043e",
   "metadata": {},
   "outputs": [],
   "source": [
    "#Q4 To check weather string is palindrome or not"
   ]
  },
  {
   "cell_type": "code",
   "execution_count": 32,
   "id": "93d019fa-0951-459e-abdc-ad8b64e76b33",
   "metadata": {},
   "outputs": [
    {
     "name": "stdin",
     "output_type": "stream",
     "text": [
      "Enter the string GADAG\n"
     ]
    },
    {
     "name": "stdout",
     "output_type": "stream",
     "text": [
      "The given string is palindrome\n"
     ]
    }
   ],
   "source": [
    "A = str(input('Enter the string'))\n",
    "reverse = A[::-1]\n",
    "if A == reverse:\n",
    "    print(\"The given string is palindrome\")\n",
    "else:\n",
    "    print(\"The given string is not a palindrome\")    "
   ]
  },
  {
   "cell_type": "code",
   "execution_count": 51,
   "id": "241a2bc4-a20d-4fcb-8cc7-9aec9d05fb45",
   "metadata": {},
   "outputs": [],
   "source": [
    "#Q5 Remove all spaces in given string"
   ]
  },
  {
   "cell_type": "code",
   "execution_count": 48,
   "id": "a5d9b165-59d0-4129-bdc8-103323e51776",
   "metadata": {},
   "outputs": [
    {
     "name": "stdin",
     "output_type": "stream",
     "text": [
      "Enter the string: Today is great day\n"
     ]
    },
    {
     "name": "stdout",
     "output_type": "stream",
     "text": [
      " Todayisgreatday\n"
     ]
    }
   ],
   "source": [
    "A = input(\"Enter the string:\")\n",
    "B = \" \"\n",
    "for i in A:\n",
    "    if not i.isspace():\n",
    "        B+=i\n",
    "print(B)"
   ]
  },
  {
   "cell_type": "code",
   "execution_count": null,
   "id": "6ee9f901-bcea-43b8-8fac-ba63fb6fb0fd",
   "metadata": {},
   "outputs": [],
   "source": []
  }
 ],
 "metadata": {
  "kernelspec": {
   "display_name": "Python 3 (ipykernel)",
   "language": "python",
   "name": "python3"
  },
  "language_info": {
   "codemirror_mode": {
    "name": "ipython",
    "version": 3
   },
   "file_extension": ".py",
   "mimetype": "text/x-python",
   "name": "python",
   "nbconvert_exporter": "python",
   "pygments_lexer": "ipython3",
   "version": "3.10.8"
  },
  "toc-autonumbering": true
 },
 "nbformat": 4,
 "nbformat_minor": 5
}
